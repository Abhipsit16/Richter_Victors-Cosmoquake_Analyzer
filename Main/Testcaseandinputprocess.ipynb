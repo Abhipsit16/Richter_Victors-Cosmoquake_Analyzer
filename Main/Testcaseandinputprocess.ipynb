{
 "cells": [
  {
   "cell_type": "markdown",
   "metadata": {},
   "source": [
    "Importing the necessary modules"
   ]
  },
  {
   "cell_type": "code",
   "execution_count": 8,
   "metadata": {},
   "outputs": [],
   "source": [
    "import numpy as np\n",
    "import pandas as pd\n",
    "from obspy import read\n",
    "from datetime import datetime, timedelta\n",
    "import matplotlib.pyplot as plt\n",
    "import os"
   ]
  },
  {
   "cell_type": "code",
   "execution_count": 9,
   "metadata": {},
   "outputs": [],
   "source": [
    "from sklearn.ensemble import RandomForestClassifier"
   ]
  },
  {
   "cell_type": "code",
   "execution_count": 10,
   "metadata": {},
   "outputs": [],
   "source": [
    "from obspy.signal.invsim import cosine_taper\n",
    "from obspy.signal.filter import highpass\n",
    "from obspy.signal.trigger import classic_sta_lta, plot_trigger, trigger_onset"
   ]
  },
  {
   "cell_type": "code",
   "execution_count": 11,
   "metadata": {},
   "outputs": [],
   "source": [
    "from scipy.fft import fft, fftfreq"
   ]
  },
  {
   "cell_type": "code",
   "execution_count": 12,
   "metadata": {},
   "outputs": [],
   "source": [
    "import joblib"
   ]
  },
  {
   "cell_type": "markdown",
   "metadata": {},
   "source": [
    "Function to preprocess input and Predict"
   ]
  },
  {
   "cell_type": "code",
   "execution_count": 53,
   "metadata": {},
   "outputs": [],
   "source": [
    "def Predict_type(minseed,csv):\n",
    "    st = read(minseed)\n",
    "    # This is how you get the data and the time, which is in seconds\n",
    "    tr = st.traces[0].copy()\n",
    "    tr_data = tr.data\n",
    "    df = tr.stats.sampling_rate\n",
    "    sta_len = 120\n",
    "    lta_len = 600\n",
    "    cft = classic_sta_lta(tr_data, int(sta_len * df), int(lta_len * df))\n",
    "    thr_on = 4\n",
    "    thr_off = 1.5\n",
    "    on_off = np.array(trigger_onset(cft, thr_on, thr_off))\n",
    "    # How long should the short-term and long-term window be, in seconds?\n",
    "    # Run Obspy's STA/LTA to obtain a characteristic function\n",
    "    # This function basically calculates the ratio of amplitude between the short-term \n",
    "    # and long-term windows, moving consecutively in time across the data\n",
    "    data = pd.read_csv(csv)\n",
    "    data=data.loc[data['time_rel(sec)']>=(on_off[0][0])]\n",
    "    time = data['time_rel(sec)']  # Assuming the first column is time\n",
    "    amplitude = data['velocity(m/s)']  # Assuming the second column is amplitude\n",
    "    amplitude=np.asfarray(amplitude)\n",
    "    # Number of sample points\n",
    "    N = len(amplitude)\n",
    "    # Sample spacing (assuming uniform sampling)\n",
    "    time=np.array(time)\n",
    "    T = time[1] - time[0]\n",
    "    # Perform the Fourier Transform\n",
    "    yf = 2.0/N * np.abs(fft(amplitude)[:N//2])\n",
    "    xf = fftfreq(N, T)[:N//2]\n",
    "    max_velocity=np.max(yf)\n",
    "    weighted_velocity=np.sum(yf*xf)/np.sum(xf)\n",
    "    mean_velocity=np.mean(yf)\n",
    "    freq_of_max=xf[np.argmax(yf)]\n",
    "    area=(np.sum(yf*xf))\n",
    "    arr= np.array([max_velocity, weighted_velocity, mean_velocity, freq_of_max, area])\n",
    "    min_arr=np.array([5.500321581195321e-12, 1.1357021950539033e-13,2.352262677275252e-13, 0.108138752105393, 1.4515146530837311e-08])\n",
    "    max_arr=np.array([1.2684432046057191e-09,5.205067987341181e-11,9.485446966158655e-11,0.9731615173627284,2.0500911085770924e-06])\n",
    "    arr= (arr-min_arr)/(max_arr-min_arr)\n",
    "    clf_loaded = joblib.load('moonquake_model.joblib')\n",
    "    x= clf_loaded.predict([arr])[0]\n",
    "    if x==1:\n",
    "        return \"impact_mq\"\n",
    "    elif x==2:\n",
    "        return \"deep_mq\"\n",
    "    elif x==3:\n",
    "        return \"shallow_mq\""
   ]
  },
  {
   "cell_type": "code",
   "execution_count": null,
   "metadata": {},
   "outputs": [],
   "source": [
    "Predict_type(\"Testit.mseed\",\"Testit.csv\")"
   ]
  }
 ],
 "metadata": {
  "kernelspec": {
   "display_name": "Python 3",
   "language": "python",
   "name": "python3"
  },
  "language_info": {
   "codemirror_mode": {
    "name": "ipython",
    "version": 3
   },
   "file_extension": ".py",
   "mimetype": "text/x-python",
   "name": "python",
   "nbconvert_exporter": "python",
   "pygments_lexer": "ipython3",
   "version": "3.12.7"
  }
 },
 "nbformat": 4,
 "nbformat_minor": 2
}
